{
 "cells": [
  {
   "cell_type": "markdown",
   "metadata": {},
   "source": [
    "# Importing necessary files"
   ]
  },
  {
   "cell_type": "code",
   "execution_count": 1,
   "metadata": {},
   "outputs": [],
   "source": [
    "import pandas as pd\n",
    "import numpy as np\n",
    "import matplotlib.pyplot as plt\n",
    "import seaborn as sns\n",
    "from sklearn import tree\n",
    "from sklearn.model_selection import train_test_split\n",
    "from sklearn import metrics\n",
    "from sklearn.linear_model import LogisticRegression\n",
    "from sklearn.svm import SVC\n",
    "from sklearn import ensemble\n",
    "from sklearn.decomposition import PCA\n",
    "%matplotlib inline"
   ]
  },
  {
   "cell_type": "markdown",
   "metadata": {},
   "source": [
    "# Data Preprocessing"
   ]
  },
  {
   "cell_type": "markdown",
   "metadata": {},
   "source": [
    "## Importing the Data file"
   ]
  },
  {
   "cell_type": "markdown",
   "metadata": {},
   "source": [
    "Data is in the form of csv format, that is comma separated file."
   ]
  },
  {
   "cell_type": "code",
   "execution_count": 129,
   "metadata": {},
   "outputs": [],
   "source": [
    "data = pd.read_csv('data_payment behavior.csv')"
   ]
  },
  {
   "cell_type": "code",
   "execution_count": 130,
   "metadata": {},
   "outputs": [],
   "source": [
    "df = data"
   ]
  },
  {
   "cell_type": "code",
   "execution_count": 131,
   "metadata": {},
   "outputs": [
    {
     "data": {
      "text/html": [
       "<div>\n",
       "<style scoped>\n",
       "    .dataframe tbody tr th:only-of-type {\n",
       "        vertical-align: middle;\n",
       "    }\n",
       "\n",
       "    .dataframe tbody tr th {\n",
       "        vertical-align: top;\n",
       "    }\n",
       "\n",
       "    .dataframe thead th {\n",
       "        text-align: right;\n",
       "    }\n",
       "</style>\n",
       "<table border=\"1\" class=\"dataframe\">\n",
       "  <thead>\n",
       "    <tr style=\"text-align: right;\">\n",
       "      <th></th>\n",
       "      <th>Type</th>\n",
       "      <th>Accepts Marketing</th>\n",
       "      <th>Currency</th>\n",
       "      <th>Subtotal</th>\n",
       "      <th>Shipping</th>\n",
       "      <th>Taxes</th>\n",
       "      <th>Total</th>\n",
       "      <th>Lineitem requires shipping</th>\n",
       "      <th>Lineitem taxable</th>\n",
       "      <th>Payment Method</th>\n",
       "      <th>Source</th>\n",
       "      <th>Presentment Currency</th>\n",
       "      <th>Payment Attempts</th>\n",
       "      <th>Shipping and IP Location Match</th>\n",
       "      <th>Billing Country and Shipping Country Match</th>\n",
       "      <th>Web Proxy</th>\n",
       "    </tr>\n",
       "  </thead>\n",
       "  <tbody>\n",
       "    <tr>\n",
       "      <th>0</th>\n",
       "      <td>1</td>\n",
       "      <td>no</td>\n",
       "      <td>USD</td>\n",
       "      <td>329.0</td>\n",
       "      <td>0.0</td>\n",
       "      <td>0.0</td>\n",
       "      <td>329.0</td>\n",
       "      <td>True</td>\n",
       "      <td>False</td>\n",
       "      <td>PayPal Express Checkout</td>\n",
       "      <td>web</td>\n",
       "      <td>USD</td>\n",
       "      <td>5</td>\n",
       "      <td>no</td>\n",
       "      <td>yes</td>\n",
       "      <td>No</td>\n",
       "    </tr>\n",
       "    <tr>\n",
       "      <th>1</th>\n",
       "      <td>1</td>\n",
       "      <td>no</td>\n",
       "      <td>USD</td>\n",
       "      <td>329.0</td>\n",
       "      <td>0.0</td>\n",
       "      <td>0.0</td>\n",
       "      <td>329.0</td>\n",
       "      <td>True</td>\n",
       "      <td>False</td>\n",
       "      <td>2Checkout</td>\n",
       "      <td>web</td>\n",
       "      <td>USD</td>\n",
       "      <td>3</td>\n",
       "      <td>no</td>\n",
       "      <td>yes</td>\n",
       "      <td>No</td>\n",
       "    </tr>\n",
       "    <tr>\n",
       "      <th>2</th>\n",
       "      <td>1</td>\n",
       "      <td>no</td>\n",
       "      <td>USD</td>\n",
       "      <td>329.0</td>\n",
       "      <td>0.0</td>\n",
       "      <td>0.0</td>\n",
       "      <td>329.0</td>\n",
       "      <td>True</td>\n",
       "      <td>False</td>\n",
       "      <td>PayPal Express Checkout</td>\n",
       "      <td>web</td>\n",
       "      <td>USD</td>\n",
       "      <td>2</td>\n",
       "      <td>no</td>\n",
       "      <td>yes</td>\n",
       "      <td>No</td>\n",
       "    </tr>\n",
       "    <tr>\n",
       "      <th>3</th>\n",
       "      <td>1</td>\n",
       "      <td>no</td>\n",
       "      <td>USD</td>\n",
       "      <td>159.0</td>\n",
       "      <td>0.0</td>\n",
       "      <td>0.0</td>\n",
       "      <td>159.0</td>\n",
       "      <td>True</td>\n",
       "      <td>False</td>\n",
       "      <td>PayPal Express Checkout</td>\n",
       "      <td>web</td>\n",
       "      <td>USD</td>\n",
       "      <td>5</td>\n",
       "      <td>yes</td>\n",
       "      <td>yes</td>\n",
       "      <td>No</td>\n",
       "    </tr>\n",
       "    <tr>\n",
       "      <th>4</th>\n",
       "      <td>1</td>\n",
       "      <td>no</td>\n",
       "      <td>USD</td>\n",
       "      <td>329.0</td>\n",
       "      <td>0.0</td>\n",
       "      <td>0.0</td>\n",
       "      <td>329.0</td>\n",
       "      <td>True</td>\n",
       "      <td>False</td>\n",
       "      <td>PayPal Express Checkout</td>\n",
       "      <td>web</td>\n",
       "      <td>USD</td>\n",
       "      <td>6</td>\n",
       "      <td>yes</td>\n",
       "      <td>yes</td>\n",
       "      <td>No</td>\n",
       "    </tr>\n",
       "  </tbody>\n",
       "</table>\n",
       "</div>"
      ],
      "text/plain": [
       "   Type Accepts Marketing Currency  Subtotal  Shipping  Taxes  Total  \\\n",
       "0     1                no      USD     329.0       0.0    0.0  329.0   \n",
       "1     1                no      USD     329.0       0.0    0.0  329.0   \n",
       "2     1                no      USD     329.0       0.0    0.0  329.0   \n",
       "3     1                no      USD     159.0       0.0    0.0  159.0   \n",
       "4     1                no      USD     329.0       0.0    0.0  329.0   \n",
       "\n",
       "   Lineitem requires shipping  Lineitem taxable           Payment Method  \\\n",
       "0                        True             False  PayPal Express Checkout   \n",
       "1                        True             False                2Checkout   \n",
       "2                        True             False  PayPal Express Checkout   \n",
       "3                        True             False  PayPal Express Checkout   \n",
       "4                        True             False  PayPal Express Checkout   \n",
       "\n",
       "  Source Presentment Currency  Payment Attempts  \\\n",
       "0    web                  USD                 5   \n",
       "1    web                  USD                 3   \n",
       "2    web                  USD                 2   \n",
       "3    web                  USD                 5   \n",
       "4    web                  USD                 6   \n",
       "\n",
       "  Shipping and IP Location Match Billing Country and Shipping Country Match  \\\n",
       "0                             no                                        yes   \n",
       "1                             no                                        yes   \n",
       "2                             no                                        yes   \n",
       "3                            yes                                        yes   \n",
       "4                            yes                                        yes   \n",
       "\n",
       "  Web Proxy  \n",
       "0        No  \n",
       "1        No  \n",
       "2        No  \n",
       "3        No  \n",
       "4        No  "
      ]
     },
     "execution_count": 131,
     "metadata": {},
     "output_type": "execute_result"
    }
   ],
   "source": [
    "data.head() #head function gives us the first 5 rows of the dataframe"
   ]
  },
  {
   "cell_type": "code",
   "execution_count": 132,
   "metadata": {},
   "outputs": [
    {
     "name": "stdout",
     "output_type": "stream",
     "text": [
      "<class 'pandas.core.frame.DataFrame'>\n",
      "RangeIndex: 4579 entries, 0 to 4578\n",
      "Data columns (total 16 columns):\n",
      "Type                                          4579 non-null int64\n",
      "Accepts Marketing                             4180 non-null object\n",
      "Currency                                      4179 non-null object\n",
      "Subtotal                                      4179 non-null float64\n",
      "Shipping                                      4179 non-null float64\n",
      "Taxes                                         4179 non-null float64\n",
      "Total                                         4179 non-null float64\n",
      "Lineitem requires shipping                    4579 non-null bool\n",
      "Lineitem taxable                              4579 non-null bool\n",
      "Payment Method                                4179 non-null object\n",
      "Source                                        4182 non-null object\n",
      "Presentment Currency                          4179 non-null object\n",
      "Payment Attempts                              4579 non-null int64\n",
      "Shipping and IP Location Match                4579 non-null object\n",
      "Billing Country and Shipping Country Match    4579 non-null object\n",
      "Web Proxy                                     4579 non-null object\n",
      "dtypes: bool(2), float64(4), int64(2), object(8)\n",
      "memory usage: 509.8+ KB\n"
     ]
    }
   ],
   "source": [
    "data.info()"
   ]
  },
  {
   "cell_type": "markdown",
   "metadata": {},
   "source": [
    "## Checking for NULL values i.e. total number of missing values"
   ]
  },
  {
   "cell_type": "code",
   "execution_count": 133,
   "metadata": {},
   "outputs": [
    {
     "data": {
      "text/plain": [
       "Type                                            0\n",
       "Accepts Marketing                             399\n",
       "Currency                                      400\n",
       "Subtotal                                      400\n",
       "Shipping                                      400\n",
       "Taxes                                         400\n",
       "Total                                         400\n",
       "Lineitem requires shipping                      0\n",
       "Lineitem taxable                                0\n",
       "Payment Method                                400\n",
       "Source                                        397\n",
       "Presentment Currency                          400\n",
       "Payment Attempts                                0\n",
       "Shipping and IP Location Match                  0\n",
       "Billing Country and Shipping Country Match      0\n",
       "Web Proxy                                       0\n",
       "dtype: int64"
      ]
     },
     "execution_count": 133,
     "metadata": {},
     "output_type": "execute_result"
    }
   ],
   "source": [
    "data.isnull().sum()"
   ]
  },
  {
   "cell_type": "markdown",
   "metadata": {},
   "source": [
    "## Droping NULL or missing value containg rows"
   ]
  },
  {
   "cell_type": "code",
   "execution_count": 134,
   "metadata": {},
   "outputs": [],
   "source": [
    "data = data.dropna(axis=0, subset=['Type']) #it drops the rows containing null values with respect to Class column"
   ]
  },
  {
   "cell_type": "markdown",
   "metadata": {},
   "source": [
    "## Droping the unnecessary columns which are useless for model"
   ]
  },
  {
   "cell_type": "code",
   "execution_count": 135,
   "metadata": {},
   "outputs": [],
   "source": [
    "data = data.drop(['Currency', 'Shipping', 'Taxes', 'Total', 'Lineitem requires shipping', 'Presentment Currency'], axis=1)\n",
    "# these columns are not required for the model, as they will cause overfitting of data."
   ]
  },
  {
   "cell_type": "code",
   "execution_count": 136,
   "metadata": {},
   "outputs": [],
   "source": [
    "data = data.dropna() #dropping rows containg null values"
   ]
  },
  {
   "cell_type": "markdown",
   "metadata": {},
   "source": [
    "## Checking for missing values. Now, there is no missing value"
   ]
  },
  {
   "cell_type": "code",
   "execution_count": 137,
   "metadata": {},
   "outputs": [
    {
     "data": {
      "text/plain": [
       "Type                                          0\n",
       "Accepts Marketing                             0\n",
       "Subtotal                                      0\n",
       "Lineitem taxable                              0\n",
       "Payment Method                                0\n",
       "Source                                        0\n",
       "Payment Attempts                              0\n",
       "Shipping and IP Location Match                0\n",
       "Billing Country and Shipping Country Match    0\n",
       "Web Proxy                                     0\n",
       "dtype: int64"
      ]
     },
     "execution_count": 137,
     "metadata": {},
     "output_type": "execute_result"
    }
   ],
   "source": [
    "data.isnull().sum()"
   ]
  },
  {
   "cell_type": "code",
   "execution_count": 138,
   "metadata": {},
   "outputs": [
    {
     "data": {
      "text/html": [
       "<div>\n",
       "<style scoped>\n",
       "    .dataframe tbody tr th:only-of-type {\n",
       "        vertical-align: middle;\n",
       "    }\n",
       "\n",
       "    .dataframe tbody tr th {\n",
       "        vertical-align: top;\n",
       "    }\n",
       "\n",
       "    .dataframe thead th {\n",
       "        text-align: right;\n",
       "    }\n",
       "</style>\n",
       "<table border=\"1\" class=\"dataframe\">\n",
       "  <thead>\n",
       "    <tr style=\"text-align: right;\">\n",
       "      <th></th>\n",
       "      <th>Type</th>\n",
       "      <th>Accepts Marketing</th>\n",
       "      <th>Subtotal</th>\n",
       "      <th>Lineitem taxable</th>\n",
       "      <th>Payment Method</th>\n",
       "      <th>Source</th>\n",
       "      <th>Payment Attempts</th>\n",
       "      <th>Shipping and IP Location Match</th>\n",
       "      <th>Billing Country and Shipping Country Match</th>\n",
       "      <th>Web Proxy</th>\n",
       "    </tr>\n",
       "  </thead>\n",
       "  <tbody>\n",
       "    <tr>\n",
       "      <th>0</th>\n",
       "      <td>1</td>\n",
       "      <td>no</td>\n",
       "      <td>329.0</td>\n",
       "      <td>False</td>\n",
       "      <td>PayPal Express Checkout</td>\n",
       "      <td>web</td>\n",
       "      <td>5</td>\n",
       "      <td>no</td>\n",
       "      <td>yes</td>\n",
       "      <td>No</td>\n",
       "    </tr>\n",
       "    <tr>\n",
       "      <th>1</th>\n",
       "      <td>1</td>\n",
       "      <td>no</td>\n",
       "      <td>329.0</td>\n",
       "      <td>False</td>\n",
       "      <td>2Checkout</td>\n",
       "      <td>web</td>\n",
       "      <td>3</td>\n",
       "      <td>no</td>\n",
       "      <td>yes</td>\n",
       "      <td>No</td>\n",
       "    </tr>\n",
       "    <tr>\n",
       "      <th>2</th>\n",
       "      <td>1</td>\n",
       "      <td>no</td>\n",
       "      <td>329.0</td>\n",
       "      <td>False</td>\n",
       "      <td>PayPal Express Checkout</td>\n",
       "      <td>web</td>\n",
       "      <td>2</td>\n",
       "      <td>no</td>\n",
       "      <td>yes</td>\n",
       "      <td>No</td>\n",
       "    </tr>\n",
       "    <tr>\n",
       "      <th>3</th>\n",
       "      <td>1</td>\n",
       "      <td>no</td>\n",
       "      <td>159.0</td>\n",
       "      <td>False</td>\n",
       "      <td>PayPal Express Checkout</td>\n",
       "      <td>web</td>\n",
       "      <td>5</td>\n",
       "      <td>yes</td>\n",
       "      <td>yes</td>\n",
       "      <td>No</td>\n",
       "    </tr>\n",
       "    <tr>\n",
       "      <th>4</th>\n",
       "      <td>1</td>\n",
       "      <td>no</td>\n",
       "      <td>329.0</td>\n",
       "      <td>False</td>\n",
       "      <td>PayPal Express Checkout</td>\n",
       "      <td>web</td>\n",
       "      <td>6</td>\n",
       "      <td>yes</td>\n",
       "      <td>yes</td>\n",
       "      <td>No</td>\n",
       "    </tr>\n",
       "  </tbody>\n",
       "</table>\n",
       "</div>"
      ],
      "text/plain": [
       "   Type Accepts Marketing  Subtotal  Lineitem taxable  \\\n",
       "0     1                no     329.0             False   \n",
       "1     1                no     329.0             False   \n",
       "2     1                no     329.0             False   \n",
       "3     1                no     159.0             False   \n",
       "4     1                no     329.0             False   \n",
       "\n",
       "            Payment Method Source  Payment Attempts  \\\n",
       "0  PayPal Express Checkout    web                 5   \n",
       "1                2Checkout    web                 3   \n",
       "2  PayPal Express Checkout    web                 2   \n",
       "3  PayPal Express Checkout    web                 5   \n",
       "4  PayPal Express Checkout    web                 6   \n",
       "\n",
       "  Shipping and IP Location Match Billing Country and Shipping Country Match  \\\n",
       "0                             no                                        yes   \n",
       "1                             no                                        yes   \n",
       "2                             no                                        yes   \n",
       "3                            yes                                        yes   \n",
       "4                            yes                                        yes   \n",
       "\n",
       "  Web Proxy  \n",
       "0        No  \n",
       "1        No  \n",
       "2        No  \n",
       "3        No  \n",
       "4        No  "
      ]
     },
     "execution_count": 138,
     "metadata": {},
     "output_type": "execute_result"
    }
   ],
   "source": [
    "data.head()"
   ]
  },
  {
   "cell_type": "markdown",
   "metadata": {},
   "source": [
    "## Feature Engineering: Converting Categorical Variables Into Dummy Variables"
   ]
  },
  {
   "cell_type": "code",
   "execution_count": null,
   "metadata": {},
   "outputs": [],
   "source": []
  },
  {
   "cell_type": "code",
   "execution_count": 139,
   "metadata": {},
   "outputs": [],
   "source": [
    "accepts_marketing = pd.get_dummies(data['Accepts Marketing'])\n",
    "#lineitem_requires_shipping = pd.get_dummies(data['Lineitem requires shipping'])\n",
    "lineitem_taxable = pd.get_dummies(data['Lineitem taxable'])\n",
    "payment_method = pd.get_dummies(data['Payment Method'])\n",
    "source = pd.get_dummies(data['Source'])\n",
    "S_ip_l_match = pd.get_dummies(data['Shipping and IP Location Match'])\n",
    "billing_country_shipping = pd.get_dummies(data['Billing Country and Shipping Country Match'])\n",
    "web_proxy = pd.get_dummies(data['Web Proxy'])"
   ]
  },
  {
   "cell_type": "code",
   "execution_count": 140,
   "metadata": {},
   "outputs": [],
   "source": [
    "data['Accepts Marketing'] = accepts_marketing['yes']\n",
    "#data['Lineitem requires shipping'] = lineitem_requires_shipping\n",
    "data['Lineitem taxable'] = lineitem_taxable[True]\n",
    "data['Payment Method'] = payment_method['PayPal Express Checkout']\n",
    "data['Source'] = source['web']\n",
    "data['Shipping and IP Location Match'] = S_ip_l_match['yes']\n",
    "data['Billing Country and Shipping Country Match'] = billing_country_shipping['yes']\n",
    "data['Web Proxy'] = web_proxy['Yes']"
   ]
  },
  {
   "cell_type": "code",
   "execution_count": 141,
   "metadata": {},
   "outputs": [],
   "source": [
    "#data = data.drop(['Billing Country'], axis=1)"
   ]
  },
  {
   "cell_type": "code",
   "execution_count": 142,
   "metadata": {},
   "outputs": [],
   "source": [
    "#data = data.join(billing_country)"
   ]
  },
  {
   "cell_type": "code",
   "execution_count": 143,
   "metadata": {},
   "outputs": [
    {
     "data": {
      "text/html": [
       "<div>\n",
       "<style scoped>\n",
       "    .dataframe tbody tr th:only-of-type {\n",
       "        vertical-align: middle;\n",
       "    }\n",
       "\n",
       "    .dataframe tbody tr th {\n",
       "        vertical-align: top;\n",
       "    }\n",
       "\n",
       "    .dataframe thead th {\n",
       "        text-align: right;\n",
       "    }\n",
       "</style>\n",
       "<table border=\"1\" class=\"dataframe\">\n",
       "  <thead>\n",
       "    <tr style=\"text-align: right;\">\n",
       "      <th></th>\n",
       "      <th>Type</th>\n",
       "      <th>Accepts Marketing</th>\n",
       "      <th>Subtotal</th>\n",
       "      <th>Lineitem taxable</th>\n",
       "      <th>Payment Method</th>\n",
       "      <th>Source</th>\n",
       "      <th>Payment Attempts</th>\n",
       "      <th>Shipping and IP Location Match</th>\n",
       "      <th>Billing Country and Shipping Country Match</th>\n",
       "      <th>Web Proxy</th>\n",
       "    </tr>\n",
       "  </thead>\n",
       "  <tbody>\n",
       "    <tr>\n",
       "      <th>0</th>\n",
       "      <td>1</td>\n",
       "      <td>0</td>\n",
       "      <td>329.0</td>\n",
       "      <td>0</td>\n",
       "      <td>1</td>\n",
       "      <td>1</td>\n",
       "      <td>5</td>\n",
       "      <td>0</td>\n",
       "      <td>1</td>\n",
       "      <td>0</td>\n",
       "    </tr>\n",
       "    <tr>\n",
       "      <th>1</th>\n",
       "      <td>1</td>\n",
       "      <td>0</td>\n",
       "      <td>329.0</td>\n",
       "      <td>0</td>\n",
       "      <td>0</td>\n",
       "      <td>1</td>\n",
       "      <td>3</td>\n",
       "      <td>0</td>\n",
       "      <td>1</td>\n",
       "      <td>0</td>\n",
       "    </tr>\n",
       "    <tr>\n",
       "      <th>2</th>\n",
       "      <td>1</td>\n",
       "      <td>0</td>\n",
       "      <td>329.0</td>\n",
       "      <td>0</td>\n",
       "      <td>1</td>\n",
       "      <td>1</td>\n",
       "      <td>2</td>\n",
       "      <td>0</td>\n",
       "      <td>1</td>\n",
       "      <td>0</td>\n",
       "    </tr>\n",
       "    <tr>\n",
       "      <th>3</th>\n",
       "      <td>1</td>\n",
       "      <td>0</td>\n",
       "      <td>159.0</td>\n",
       "      <td>0</td>\n",
       "      <td>1</td>\n",
       "      <td>1</td>\n",
       "      <td>5</td>\n",
       "      <td>1</td>\n",
       "      <td>1</td>\n",
       "      <td>0</td>\n",
       "    </tr>\n",
       "    <tr>\n",
       "      <th>4</th>\n",
       "      <td>1</td>\n",
       "      <td>0</td>\n",
       "      <td>329.0</td>\n",
       "      <td>0</td>\n",
       "      <td>1</td>\n",
       "      <td>1</td>\n",
       "      <td>6</td>\n",
       "      <td>1</td>\n",
       "      <td>1</td>\n",
       "      <td>0</td>\n",
       "    </tr>\n",
       "  </tbody>\n",
       "</table>\n",
       "</div>"
      ],
      "text/plain": [
       "   Type  Accepts Marketing  Subtotal  Lineitem taxable  Payment Method  \\\n",
       "0     1                  0     329.0                 0               1   \n",
       "1     1                  0     329.0                 0               0   \n",
       "2     1                  0     329.0                 0               1   \n",
       "3     1                  0     159.0                 0               1   \n",
       "4     1                  0     329.0                 0               1   \n",
       "\n",
       "   Source  Payment Attempts  Shipping and IP Location Match  \\\n",
       "0       1                 5                               0   \n",
       "1       1                 3                               0   \n",
       "2       1                 2                               0   \n",
       "3       1                 5                               1   \n",
       "4       1                 6                               1   \n",
       "\n",
       "   Billing Country and Shipping Country Match  Web Proxy  \n",
       "0                                           1          0  \n",
       "1                                           1          0  \n",
       "2                                           1          0  \n",
       "3                                           1          0  \n",
       "4                                           1          0  "
      ]
     },
     "execution_count": 143,
     "metadata": {},
     "output_type": "execute_result"
    }
   ],
   "source": [
    "data.head()"
   ]
  },
  {
   "cell_type": "markdown",
   "metadata": {},
   "source": [
    "## Converting Data into dependent and independent variables"
   ]
  },
  {
   "cell_type": "code",
   "execution_count": 144,
   "metadata": {},
   "outputs": [],
   "source": [
    "X = data.drop(['Type'], axis=1)"
   ]
  },
  {
   "cell_type": "code",
   "execution_count": 145,
   "metadata": {},
   "outputs": [
    {
     "data": {
      "text/html": [
       "<div>\n",
       "<style scoped>\n",
       "    .dataframe tbody tr th:only-of-type {\n",
       "        vertical-align: middle;\n",
       "    }\n",
       "\n",
       "    .dataframe tbody tr th {\n",
       "        vertical-align: top;\n",
       "    }\n",
       "\n",
       "    .dataframe thead th {\n",
       "        text-align: right;\n",
       "    }\n",
       "</style>\n",
       "<table border=\"1\" class=\"dataframe\">\n",
       "  <thead>\n",
       "    <tr style=\"text-align: right;\">\n",
       "      <th></th>\n",
       "      <th>Accepts Marketing</th>\n",
       "      <th>Subtotal</th>\n",
       "      <th>Lineitem taxable</th>\n",
       "      <th>Payment Method</th>\n",
       "      <th>Source</th>\n",
       "      <th>Payment Attempts</th>\n",
       "      <th>Shipping and IP Location Match</th>\n",
       "      <th>Billing Country and Shipping Country Match</th>\n",
       "      <th>Web Proxy</th>\n",
       "    </tr>\n",
       "  </thead>\n",
       "  <tbody>\n",
       "    <tr>\n",
       "      <th>0</th>\n",
       "      <td>0</td>\n",
       "      <td>329.0</td>\n",
       "      <td>0</td>\n",
       "      <td>1</td>\n",
       "      <td>1</td>\n",
       "      <td>5</td>\n",
       "      <td>0</td>\n",
       "      <td>1</td>\n",
       "      <td>0</td>\n",
       "    </tr>\n",
       "    <tr>\n",
       "      <th>1</th>\n",
       "      <td>0</td>\n",
       "      <td>329.0</td>\n",
       "      <td>0</td>\n",
       "      <td>0</td>\n",
       "      <td>1</td>\n",
       "      <td>3</td>\n",
       "      <td>0</td>\n",
       "      <td>1</td>\n",
       "      <td>0</td>\n",
       "    </tr>\n",
       "    <tr>\n",
       "      <th>2</th>\n",
       "      <td>0</td>\n",
       "      <td>329.0</td>\n",
       "      <td>0</td>\n",
       "      <td>1</td>\n",
       "      <td>1</td>\n",
       "      <td>2</td>\n",
       "      <td>0</td>\n",
       "      <td>1</td>\n",
       "      <td>0</td>\n",
       "    </tr>\n",
       "    <tr>\n",
       "      <th>3</th>\n",
       "      <td>0</td>\n",
       "      <td>159.0</td>\n",
       "      <td>0</td>\n",
       "      <td>1</td>\n",
       "      <td>1</td>\n",
       "      <td>5</td>\n",
       "      <td>1</td>\n",
       "      <td>1</td>\n",
       "      <td>0</td>\n",
       "    </tr>\n",
       "    <tr>\n",
       "      <th>4</th>\n",
       "      <td>0</td>\n",
       "      <td>329.0</td>\n",
       "      <td>0</td>\n",
       "      <td>1</td>\n",
       "      <td>1</td>\n",
       "      <td>6</td>\n",
       "      <td>1</td>\n",
       "      <td>1</td>\n",
       "      <td>0</td>\n",
       "    </tr>\n",
       "  </tbody>\n",
       "</table>\n",
       "</div>"
      ],
      "text/plain": [
       "   Accepts Marketing  Subtotal  Lineitem taxable  Payment Method  Source  \\\n",
       "0                  0     329.0                 0               1       1   \n",
       "1                  0     329.0                 0               0       1   \n",
       "2                  0     329.0                 0               1       1   \n",
       "3                  0     159.0                 0               1       1   \n",
       "4                  0     329.0                 0               1       1   \n",
       "\n",
       "   Payment Attempts  Shipping and IP Location Match  \\\n",
       "0                 5                               0   \n",
       "1                 3                               0   \n",
       "2                 2                               0   \n",
       "3                 5                               1   \n",
       "4                 6                               1   \n",
       "\n",
       "   Billing Country and Shipping Country Match  Web Proxy  \n",
       "0                                           1          0  \n",
       "1                                           1          0  \n",
       "2                                           1          0  \n",
       "3                                           1          0  \n",
       "4                                           1          0  "
      ]
     },
     "execution_count": 145,
     "metadata": {},
     "output_type": "execute_result"
    }
   ],
   "source": [
    "X.head()"
   ]
  },
  {
   "cell_type": "code",
   "execution_count": 146,
   "metadata": {},
   "outputs": [],
   "source": [
    "y = data['Type']"
   ]
  },
  {
   "cell_type": "code",
   "execution_count": 147,
   "metadata": {},
   "outputs": [
    {
     "data": {
      "text/plain": [
       "0    1\n",
       "1    1\n",
       "2    1\n",
       "3    1\n",
       "4    1\n",
       "Name: Type, dtype: int64"
      ]
     },
     "execution_count": 147,
     "metadata": {},
     "output_type": "execute_result"
    }
   ],
   "source": [
    "y.head()"
   ]
  },
  {
   "cell_type": "markdown",
   "metadata": {},
   "source": [
    "# Feature importance: Taking out most important features using Decision Tree Classifier"
   ]
  },
  {
   "cell_type": "markdown",
   "metadata": {},
   "source": [
    "In this we are taking out most important features using decision tree classifier"
   ]
  },
  {
   "cell_type": "code",
   "execution_count": 148,
   "metadata": {},
   "outputs": [
    {
     "name": "stdout",
     "output_type": "stream",
     "text": [
      "Feature ranking:\n",
      "1. feature 5 (0.796122)\n",
      "2. feature 4 (0.121583)\n",
      "3. feature 1 (0.063114)\n",
      "4. feature 6 (0.019181)\n",
      "5. feature 8 (0.000000)\n",
      "6. feature 7 (0.000000)\n",
      "7. feature 3 (0.000000)\n",
      "8. feature 2 (0.000000)\n",
      "9. feature 0 (0.000000)\n"
     ]
    },
    {
     "data": {
      "image/png": "[encoded data removed]",
      "text/plain": [
       "<Figure size 432x288 with 1 Axes>"
      ]
     },
     "metadata": {},
     "output_type": "display_data"
    }
   ],
   "source": [
    "# Build a forest and compute the feature importances\n",
    "\n",
    "clf = tree.DecisionTreeClassifier(max_depth=5)\n",
    "clf.fit(X,y)\n",
    "importances = clf.feature_importances_\n",
    "\n",
    "indices = np.argsort(importances)[::-1]\n",
    "\n",
    "# Print the feature ranking\n",
    "print(\"Feature ranking:\")\n",
    "\n",
    "for f in range(X.shape[1]):\n",
    "    print(\"%d. feature %d (%f)\" % (f + 1, indices[f], importances[indices[f]]))\n",
    "\n",
    "# Plot the feature importances of the forest\n",
    "plt.figure()\n",
    "plt.title(\"Feature importances\")\n",
    "plt.bar(range(X.shape[1]), importances[indices],\n",
    "       color=\"r\", align=\"center\")\n",
    "plt.xticks(range(X.shape[1]), indices)\n",
    "plt.xlim([-1, X.shape[1]])\n",
    "plt.show()"
   ]
  },
  {
   "cell_type": "markdown",
   "metadata": {},
   "source": [
    "As you can see from the above graph that Most Important Features are:"
   ]
  },
  {
   "cell_type": "code",
   "execution_count": 149,
   "metadata": {},
   "outputs": [],
   "source": [
    "imp_cols_indices = indices"
   ]
  },
  {
   "cell_type": "code",
   "execution_count": 150,
   "metadata": {},
   "outputs": [
    {
     "data": {
      "text/plain": [
       "Index(['Accepts Marketing', 'Subtotal', 'Lineitem taxable', 'Payment Method',\n",
       "       'Source', 'Payment Attempts', 'Shipping and IP Location Match',\n",
       "       'Billing Country and Shipping Country Match', 'Web Proxy'],\n",
       "      dtype='object')"
      ]
     },
     "execution_count": 150,
     "metadata": {},
     "output_type": "execute_result"
    }
   ],
   "source": [
    "X.columns"
   ]
  },
  {
   "cell_type": "code",
   "execution_count": 151,
   "metadata": {},
   "outputs": [],
   "source": [
    "imp_cols = X.columns[imp_cols_indices][:4]"
   ]
  },
  {
   "cell_type": "code",
   "execution_count": 152,
   "metadata": {},
   "outputs": [
    {
     "data": {
      "text/plain": [
       "Index(['Payment Attempts', 'Source', 'Subtotal',\n",
       "       'Shipping and IP Location Match'],\n",
       "      dtype='object')"
      ]
     },
     "execution_count": 152,
     "metadata": {},
     "output_type": "execute_result"
    }
   ],
   "source": [
    "imp_cols"
   ]
  },
  {
   "cell_type": "code",
   "execution_count": 153,
   "metadata": {},
   "outputs": [],
   "source": [
    "X = X[imp_cols]"
   ]
  },
  {
   "cell_type": "markdown",
   "metadata": {},
   "source": [
    "## Visualisation"
   ]
  },
  {
   "cell_type": "markdown",
   "metadata": {},
   "source": [
    "Visualizing the various features of data."
   ]
  },
  {
   "cell_type": "markdown",
   "metadata": {},
   "source": [
    "### Correlation matrix"
   ]
  },
  {
   "cell_type": "code",
   "execution_count": 154,
   "metadata": {},
   "outputs": [
    {
     "data": {
      "text/plain": [
       "<matplotlib.axes._subplots.AxesSubplot at 0x23c5fe4ff60>"
      ]
     },
     "execution_count": 154,
     "metadata": {},
     "output_type": "execute_result"
    },
    {
     "data": {
      "image/png": "[encoded data removed]",
      "text/plain": [
       "<Figure size 1440x720 with 2 Axes>"
      ]
     },
     "metadata": {},
     "output_type": "display_data"
    }
   ],
   "source": [
    "corrMatt = X.join(y).corr()\n",
    "mask = np.array(corrMatt)\n",
    "mask[np.tril_indices_from(mask)] = False\n",
    "fig,ax= plt.subplots()\n",
    "fig.set_size_inches(20,10)\n",
    "sns.heatmap(corrMatt, mask=mask,vmax=.8, square=True,annot=True)"
   ]
  },
  {
   "cell_type": "markdown",
   "metadata": {},
   "source": [
    "### Histograms"
   ]
  },
  {
   "cell_type": "code",
   "execution_count": 155,
   "metadata": {},
   "outputs": [
    {
     "data": {
      "image/png": "[encoded data removed]",
      "text/plain": [
       "<Figure size 432x288 with 1 Axes>"
      ]
     },
     "metadata": {},
     "output_type": "display_data"
    }
   ],
   "source": [
    "plt.hist((y),bins=5)\n",
    "plt.show()"
   ]
  },
  {
   "cell_type": "code",
   "execution_count": 156,
   "metadata": {},
   "outputs": [
    {
     "data": {
      "image/png": "[encoded data removed]",
      "text/plain": [
       "<Figure size 432x288 with 1 Axes>"
      ]
     },
     "metadata": {},
     "output_type": "display_data"
    }
   ],
   "source": [
    "plt.hist(data.Subtotal,bins=10)\n",
    "plt.show()"
   ]
  },
  {
   "cell_type": "code",
   "execution_count": 157,
   "metadata": {},
   "outputs": [
    {
     "data": {
      "image/png": "[encoded data removed]",
      "text/plain": [
       "<Figure size 432x288 with 1 Axes>"
      ]
     },
     "metadata": {},
     "output_type": "display_data"
    }
   ],
   "source": [
    "plt.hist(data['Lineitem taxable'],bins=10)\n",
    "plt.show()"
   ]
  },
  {
   "cell_type": "markdown",
   "metadata": {},
   "source": [
    "### Countplot"
   ]
  },
  {
   "cell_type": "code",
   "execution_count": 158,
   "metadata": {},
   "outputs": [
    {
     "data": {
      "image/png": "[encoded data removed]",
      "text/plain": [
       "<Figure size 1440x720 with 1 Axes>"
      ]
     },
     "metadata": {},
     "output_type": "display_data"
    }
   ],
   "source": [
    "fig,ax= plt.subplots()\n",
    "fig.set_size_inches(20,10)\n",
    "sns.countplot(df['Payment Attempts'],label=\"Count\")\n",
    "plt.show()"
   ]
  },
  {
   "cell_type": "markdown",
   "metadata": {},
   "source": [
    "From this count plot, we can conclude that there are many users who attempted only once."
   ]
  },
  {
   "cell_type": "markdown",
   "metadata": {},
   "source": [
    "# Supervised Learning"
   ]
  },
  {
   "cell_type": "markdown",
   "metadata": {},
   "source": [
    "## Splitting the data into train and test."
   ]
  },
  {
   "cell_type": "code",
   "execution_count": 159,
   "metadata": {},
   "outputs": [],
   "source": [
    "X_train, X_test, y_train, y_test = train_test_split(X, y, test_size=0.25, random_state=0)"
   ]
  },
  {
   "cell_type": "markdown",
   "metadata": {},
   "source": [
    "## Using Logistic Regression, Support Vector Machines and Random Forest Classifiers."
   ]
  },
  {
   "cell_type": "markdown",
   "metadata": {},
   "source": [
    "Logistic Regression, SVM and Random Forest classifiers are used for training the model. As this is a classification problem, we have to use classification algorithms."
   ]
  },
  {
   "cell_type": "code",
   "execution_count": 160,
   "metadata": {},
   "outputs": [
    {
     "name": "stdout",
     "output_type": "stream",
     "text": [
      "Logistic Regressor Accuracy Score: 99.90430622009569\n",
      "Random Forest Accuracy Score: 100.0\n",
      "SVC Accuracy Score: 100.0\n",
      "\n",
      "\n"
     ]
    }
   ],
   "source": [
    "#for i in range(1,5):\n",
    "    #print(\"No. of Components\", i)\n",
    "    # Applying PCA\n",
    "    #pca=PCA(n_components=i)\n",
    "    #x_train = pca.fit_transform(X_train)\n",
    "    #x_test = pca.transform(X_test)\n",
    "    #explained_variance = pca.explained_variance_ratio_\n",
    "    #print(\"CoVariance:\", sum(explained_variance)*100)\n",
    "\n",
    "regressor = LogisticRegression()\n",
    "regressor.fit(X_train, y_train)\n",
    "print(\"Logistic Regressor Accuracy Score:\", regressor.score(X_test, y_test)*100)\n",
    "\n",
    "regressor = ensemble.RandomForestClassifier(n_estimators=100)\n",
    "regressor.fit(X_train, y_train)\n",
    "print(\"Random Forest Accuracy Score:\", regressor.score(X_test, y_test)*100)\n",
    "\n",
    "regressor = SVC(kernel='linear',random_state=0)\n",
    "regressor.fit(X_train, y_train)\n",
    "print(\"SVC Accuracy Score:\", regressor.score(X_test, y_test)*100)\n",
    "print(\"\\n\")"
   ]
  },
  {
   "cell_type": "markdown",
   "metadata": {},
   "source": [
    "# Validation"
   ]
  },
  {
   "cell_type": "markdown",
   "metadata": {},
   "source": [
    "Values predicted by the model are stored for evaluation."
   ]
  },
  {
   "cell_type": "code",
   "execution_count": 161,
   "metadata": {},
   "outputs": [],
   "source": [
    "predicted = regressor.predict(X_test) # predicted values"
   ]
  },
  {
   "cell_type": "markdown",
   "metadata": {},
   "source": [
    "## Confusion Matrix"
   ]
  },
  {
   "cell_type": "code",
   "execution_count": 169,
   "metadata": {},
   "outputs": [
    {
     "name": "stdout",
     "output_type": "stream",
     "text": [
      "[[1032    0]\n",
      " [   0   13]]\n"
     ]
    }
   ],
   "source": [
    "print(metrics.confusion_matrix(y_test, predicted))"
   ]
  },
  {
   "cell_type": "markdown",
   "metadata": {},
   "source": [
    "## Classification Report"
   ]
  },
  {
   "cell_type": "code",
   "execution_count": 170,
   "metadata": {},
   "outputs": [
    {
     "name": "stdout",
     "output_type": "stream",
     "text": [
      "             precision    recall  f1-score   support\n",
      "\n",
      "          0       1.00      1.00      1.00      1032\n",
      "          1       1.00      1.00      1.00        13\n",
      "\n",
      "avg / total       1.00      1.00      1.00      1045\n",
      "\n"
     ]
    }
   ],
   "source": [
    "print(metrics.classification_report(y_test, predicted))"
   ]
  },
  {
   "cell_type": "markdown",
   "metadata": {},
   "source": [
    "# END!"
   ]
  }
 ],
 "metadata": {
  "kernelspec": {
   "display_name": "Python 3",
   "language": "python",
   "name": "python3"
  },
  "language_info": {
   "codemirror_mode": {
    "name": "ipython",
    "version": 3
   },
   "file_extension": ".py",
   "mimetype": "text/x-python",
   "name": "python",
   "nbconvert_exporter": "python",
   "pygments_lexer": "ipython3",
   "version": "3.6.5"
  }
 },
 "nbformat": 4,
 "nbformat_minor": 2
}
